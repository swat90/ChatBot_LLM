{
  "nbformat": 4,
  "nbformat_minor": 0,
  "metadata": {
    "colab": {
      "provenance": [],
      "mount_file_id": "1uDan2wARrq0DqKpMNzQ_JWa-AC2rCqVa",
      "authorship_tag": "ABX9TyPyx+dMZWzc4NkjIvYhf/sy",
      "include_colab_link": true
    },
    "kernelspec": {
      "name": "python3",
      "display_name": "Python 3"
    },
    "language_info": {
      "name": "python"
    }
  },
  "cells": [
    {
      "cell_type": "markdown",
      "metadata": {
        "id": "view-in-github",
        "colab_type": "text"
      },
      "source": [
        "<a href=\"https://colab.research.google.com/github/swat90/ChatBot_LLM/blob/main/preproc_twitter_swati.ipynb\" target=\"_parent\"><img src=\"https://colab.research.google.com/assets/colab-badge.svg\" alt=\"Open In Colab\"/></a>"
      ]
    },
    {
      "cell_type": "markdown",
      "source": [
        "Pre process twitter data loading from Github and convert to vector embeddings of dimension 200."
      ],
      "metadata": {
        "id": "kY7CC6KV0L6f"
      }
    },
    {
      "cell_type": "code",
      "execution_count": null,
      "metadata": {
        "colab": {
          "base_uri": "https://localhost:8080/"
        },
        "id": "N25S6GX_zYtF",
        "outputId": "46677ec6-0298-4207-c374-c4ebcfeb8a8a"
      },
      "outputs": [
        {
          "output_type": "stream",
          "name": "stderr",
          "text": [
            "[nltk_data] Downloading package punkt to /root/nltk_data...\n",
            "[nltk_data]   Unzipping tokenizers/punkt.zip.\n",
            "[nltk_data] Downloading package stopwords to /root/nltk_data...\n",
            "[nltk_data]   Unzipping corpora/stopwords.zip.\n"
          ]
        },
        {
          "output_type": "execute_result",
          "data": {
            "text/plain": [
              "True"
            ]
          },
          "metadata": {},
          "execution_count": 1
        }
      ],
      "source": [
        "from sklearn.feature_extraction.text import TfidfVectorizer\n",
        "import pandas as pd\n",
        "import re\n",
        "from nltk.tokenize import word_tokenize\n",
        "from nltk.corpus import stopwords\n",
        "from nltk.stem import PorterStemmer\n",
        "\n",
        "# Download NLTK resources (if not already downloaded)\n",
        "import nltk\n",
        "nltk.download('punkt')\n",
        "nltk.download('stopwords')"
      ]
    },
    {
      "cell_type": "markdown",
      "source": [
        "Load the data from Github repository"
      ],
      "metadata": {
        "id": "Rmd3LdY-7N36"
      }
    },
    {
      "cell_type": "code",
      "source": [
        "!wget https://dagshub.com/mvlaxminarayan/omdena-hyd-socialmedia-fomo/raw/d1bd0c29a970a3573d49b279ec28a384569d086d/data/data_text/output_twitter_chunk_0.txt"
      ],
      "metadata": {
        "colab": {
          "base_uri": "https://localhost:8080/"
        },
        "id": "QMpzmKTj1PUH",
        "outputId": "603306cc-fbcc-4a6f-93a8-ea43e2521548"
      },
      "execution_count": null,
      "outputs": [
        {
          "output_type": "stream",
          "name": "stdout",
          "text": [
            "--2024-03-05 08:57:46--  https://dagshub.com/mvlaxminarayan/omdena-hyd-socialmedia-fomo/raw/d1bd0c29a970a3573d49b279ec28a384569d086d/data/data_text/output_twitter_chunk_0.txt\n",
            "Resolving dagshub.com (dagshub.com)... 35.186.200.224\n",
            "Connecting to dagshub.com (dagshub.com)|35.186.200.224|:443... connected.\n",
            "HTTP request sent, awaiting response... 200 OK\n",
            "Length: unspecified [text/plain]\n",
            "Saving to: ‘output_twitter_chunk_0.txt’\n",
            "\n",
            "output_twitter_chun     [ <=>                ]  59.98K  --.-KB/s    in 0.007s  \n",
            "\n",
            "2024-03-05 08:57:46 (8.77 MB/s) - ‘output_twitter_chunk_0.txt’ saved [61417]\n",
            "\n"
          ]
        }
      ]
    },
    {
      "cell_type": "markdown",
      "source": [
        "Define function for preprocessing the data"
      ],
      "metadata": {
        "id": "FF-wY4947RjN"
      }
    },
    {
      "cell_type": "code",
      "source": [
        "def preprocess_text(text):\n",
        "    # Remove mentions, RT (retweet), and URLs\n",
        "    text = re.sub(r'@[A-Za-z0-9_]+|RT|http\\S+', '', text)\n",
        "\n",
        "    # Tokenization\n",
        "    tokens = word_tokenize(text.lower())\n",
        "\n",
        "    # Remove stop words\n",
        "    stop_words = set(stopwords.words('english'))\n",
        "    tokens = [token for token in tokens if token.isalnum() and token not in stop_words]\n",
        "\n",
        "    # Stemming\n",
        "    porter = PorterStemmer()\n",
        "    tokens = [porter.stem(token) for token in tokens]\n",
        "\n",
        "    return ' '.join(tokens)"
      ],
      "metadata": {
        "id": "puKv6Ugp0CBq"
      },
      "execution_count": null,
      "outputs": []
    },
    {
      "cell_type": "markdown",
      "source": [
        "Read input, apply preprocess function and save to output"
      ],
      "metadata": {
        "id": "WNDrgO3c7V2M"
      }
    },
    {
      "cell_type": "code",
      "source": [
        "# Input file path\n",
        "input_path = \"/content/output_twitter_chunk_0.txt\"\n",
        "\n",
        "# Read the content of the file\n",
        "with open(input_path, 'r', encoding='utf-8') as input_file:\n",
        "    data = input_file.read()\n",
        "\n",
        "# Preprocess the text content\n",
        "preprocessed_data = preprocess_text(data)\n",
        "\n",
        "# Save the preprocessed data to a new file\n",
        "output_path = \"/content/preprocessed_output_chunk_0.txt\"\n",
        "with open(output_path, 'w', encoding='utf-8') as output_file:\n",
        "    output_file.write(preprocessed_data)\n",
        "\n",
        "print(f\"Preprocessed data saved to: {output_path}\")"
      ],
      "metadata": {
        "colab": {
          "base_uri": "https://localhost:8080/"
        },
        "id": "WGWHg-ai1r44",
        "outputId": "e19d3254-8b3b-4b36-ea5b-d0ab27021617"
      },
      "execution_count": null,
      "outputs": [
        {
          "output_type": "stream",
          "name": "stdout",
          "text": [
            "Preprocessed data saved to: /content/preprocessed_output_chunk_0.txt\n"
          ]
        }
      ]
    },
    {
      "cell_type": "markdown",
      "source": [
        "Find most common words and visulize"
      ],
      "metadata": {
        "id": "4_bYV0-j61l_"
      }
    },
    {
      "cell_type": "code",
      "source": [
        "import matplotlib.pyplot as plt\n",
        "\n",
        "# Assuming preprocessed_text contains the tokenized text\n",
        "tokens = preprocessed_text.split()\n",
        "\n",
        "# Count word frequencies\n",
        "word_frequencies = Counter(tokens)\n",
        "\n",
        "# Find the most common words (adjust the number as needed)\n",
        "most_common_words = word_frequencies.most_common(10)\n",
        "\n",
        "# Extract data for plotting\n",
        "words, frequencies = zip(*most_common_words)\n",
        "\n",
        "# Plotting\n",
        "plt.figure(figsize=(10, 6))\n",
        "plt.bar(words, frequencies, color='skyblue')\n",
        "plt.xlabel('Words')\n",
        "plt.ylabel('Frequency')\n",
        "plt.title('Top 10 Most Common Words')\n",
        "plt.xticks(rotation=45, ha='right')\n",
        "plt.show()"
      ],
      "metadata": {
        "colab": {
          "base_uri": "https://localhost:8080/",
          "height": 594
        },
        "id": "B9bN_YCS60hY",
        "outputId": "6e6657e2-4a4a-463b-fa63-4a9e5938ddd0"
      },
      "execution_count": null,
      "outputs": [
        {
          "output_type": "display_data",
          "data": {
            "text/plain": [
              "<Figure size 1000x600 with 1 Axes>"
            ],
            "image/png": "[encoded data removed]"
          },
          "metadata": {}
        }
      ]
    },
    {
      "cell_type": "markdown",
      "source": [
        "Download GloVe Embeddings"
      ],
      "metadata": {
        "id": "U7uttfXY3D2q"
      }
    },
    {
      "cell_type": "code",
      "source": [
        "!wget http://nlp.stanford.edu/data/glove.6B.zip\n"
      ],
      "metadata": {
        "colab": {
          "base_uri": "https://localhost:8080/"
        },
        "id": "X2aHQcIz2-Aw",
        "outputId": "46d9b1aa-d62f-4931-b40e-d29d78721a59"
      },
      "execution_count": null,
      "outputs": [
        {
          "output_type": "stream",
          "name": "stdout",
          "text": [
            "--2024-03-05 09:05:03--  http://nlp.stanford.edu/data/glove.6B.zip\n",
            "Resolving nlp.stanford.edu (nlp.stanford.edu)... 171.64.67.140\n",
            "Connecting to nlp.stanford.edu (nlp.stanford.edu)|171.64.67.140|:80... connected.\n",
            "HTTP request sent, awaiting response... 302 Found\n",
            "Location: https://nlp.stanford.edu/data/glove.6B.zip [following]\n",
            "--2024-03-05 09:05:03--  https://nlp.stanford.edu/data/glove.6B.zip\n",
            "Connecting to nlp.stanford.edu (nlp.stanford.edu)|171.64.67.140|:443... connected.\n",
            "HTTP request sent, awaiting response... 301 Moved Permanently\n",
            "Location: https://downloads.cs.stanford.edu/nlp/data/glove.6B.zip [following]\n",
            "--2024-03-05 09:05:04--  https://downloads.cs.stanford.edu/nlp/data/glove.6B.zip\n",
            "Resolving downloads.cs.stanford.edu (downloads.cs.stanford.edu)... 171.64.64.22\n",
            "Connecting to downloads.cs.stanford.edu (downloads.cs.stanford.edu)|171.64.64.22|:443... connected.\n",
            "HTTP request sent, awaiting response... 200 OK\n",
            "Length: 862182613 (822M) [application/zip]\n",
            "Saving to: ‘glove.6B.zip’\n",
            "\n",
            "glove.6B.zip        100%[===================>] 822.24M  4.34MB/s    in 2m 41s  \n",
            "\n",
            "2024-03-05 09:07:45 (5.09 MB/s) - ‘glove.6B.zip’ saved [862182613/862182613]\n",
            "\n"
          ]
        }
      ]
    },
    {
      "cell_type": "markdown",
      "source": [
        "extract the contents"
      ],
      "metadata": {
        "id": "bJUTyV2k3Gdc"
      }
    },
    {
      "cell_type": "code",
      "source": [
        "!unzip glove.6B.zip"
      ],
      "metadata": {
        "colab": {
          "base_uri": "https://localhost:8080/"
        },
        "id": "pgNNP6gc3K4y",
        "outputId": "06c84b52-cbec-430d-9e38-ca2db8b1101c"
      },
      "execution_count": null,
      "outputs": [
        {
          "output_type": "stream",
          "name": "stdout",
          "text": [
            "Archive:  glove.6B.zip\n",
            "  inflating: glove.6B.50d.txt        \n",
            "  inflating: glove.6B.100d.txt       \n",
            "  inflating: glove.6B.200d.txt       \n",
            "  inflating: glove.6B.300d.txt       \n"
          ]
        }
      ]
    },
    {
      "cell_type": "markdown",
      "source": [
        "Load GloVe Embeddings in Python"
      ],
      "metadata": {
        "id": "3YZE0lYc31jz"
      }
    },
    {
      "cell_type": "code",
      "source": [
        "import numpy as np\n",
        "def load_glove_embeddings(file_path):\n",
        "    embeddings = {}\n",
        "    with open(file_path, 'r', encoding='utf-8') as f:\n",
        "        for line in f:\n",
        "            values = line.split()\n",
        "            word = values[0]\n",
        "            vector = np.asarray(values[1:], dtype='float32')\n",
        "            embeddings[word] = vector\n",
        "    return embeddings\n",
        "\n",
        "# Specify the path to the GloVe file\n",
        "glove_path = 'glove.6B.200d.txt'  # Adjust the filename based on your GloVe file\n",
        "glove_embeddings = load_glove_embeddings(glove_path)"
      ],
      "metadata": {
        "id": "jaVi1bOV3uS6"
      },
      "execution_count": null,
      "outputs": []
    },
    {
      "cell_type": "markdown",
      "source": [
        "Save GloVe Embeddings"
      ],
      "metadata": {
        "id": "NoB0Dnu-5N0z"
      }
    },
    {
      "cell_type": "code",
      "source": [
        "import pickle\n",
        "\n",
        "# Save GloVe embeddings to Google Drive\n",
        "output_path = '/content/drive/MyDrive/glove_embeddings.pkl'\n",
        "with open(output_path, 'wb') as f:\n",
        "    pickle.dump(glove_embeddings, f)"
      ],
      "metadata": {
        "id": "3keM0uDV4ClS"
      },
      "execution_count": null,
      "outputs": []
    },
    {
      "cell_type": "markdown",
      "source": [
        "Tokenize and Convert Text to Vectors"
      ],
      "metadata": {
        "id": "jQDT75L75ixb"
      }
    },
    {
      "cell_type": "code",
      "source": [
        "def text_to_vectors(text, embeddings):\n",
        "    words = text.split()\n",
        "    vectors = [embeddings.get(word, np.zeros_like(embeddings['a'])) for word in words]\n",
        "    return np.vstack(vectors)\n",
        "\n",
        "# Read the content of the preprocessed text file\n",
        "with open(\"/content/preprocessed_output_chunk_0.txt\", 'r', encoding='utf-8') as file:\n",
        "    preprocessed_text = file.read()\n",
        "\n",
        "# Use the text_to_vectors function\n",
        "vectors = text_to_vectors(preprocessed_text, glove_embeddings)\n"
      ],
      "metadata": {
        "id": "8Tk8E2BB5hEc"
      },
      "execution_count": null,
      "outputs": []
    },
    {
      "cell_type": "code",
      "source": [
        "print(vectors.shape)"
      ],
      "metadata": {
        "colab": {
          "base_uri": "https://localhost:8080/"
        },
        "id": "V0c6oXfw5yMA",
        "outputId": "b4aa41e4-0de0-4608-f91e-7f86d276fd24"
      },
      "execution_count": null,
      "outputs": [
        {
          "output_type": "stream",
          "name": "stdout",
          "text": [
            "(3988, 200)\n"
          ]
        }
      ]
    }
  ]
}